{
 "cells": [
  {
   "cell_type": "code",
   "execution_count": 1,
   "id": "96545400-cef5-4755-a33f-797dcb020f22",
   "metadata": {},
   "outputs": [],
   "source": [
    "class PenyakitKulit:\n",
    "    \"\"\"\n",
    "    Kelas untuk merepresentasikan penyakit kulit.\n",
    "\n",
    "    Attributes:\n",
    "        nama (str): Nama penyakit kulit.\n",
    "        gejala (list): Daftar gejala yang terkait dengan penyakit.\n",
    "        solusi (list): Daftar solusi atau pengobatan untuk penyakit.\n",
    "    \"\"\"\n",
    "    def __init__(self, nama, gejala, solusi):\n",
    "        self.nama = nama\n",
    "        self.gejala = gejala\n",
    "        self.solusi = solusi"
   ]
  },
  {
   "cell_type": "markdown",
   "id": "0c87f0b9-9d48-4d03-b562-2d4911825992",
   "metadata": {},
   "source": [
    "1. Kelas PenyakitKulit digunakan untuk merepresentasikan informasi tentang penyakit kulit. Kelas ini memiliki tiga atribut utama: nama yang menyimpan nama penyakit kulit, gejala yang berisi daftar gejala yang terkait dengan penyakit tersebut, dan solusi yang mencantumkan cara atau pengobatan yang dapat dilakukan untuk mengatasi penyakit tersebut. Konstruktor __init__ memungkinkan untuk membuat objek penyakit kulit dengan memasukkan nilai untuk ketiga atribut tersebut, sehingga dapat memudahkan dalam pengelolaan dan pencarian informasi terkait penyakit kulit dalam sistem."
   ]
  },
  {
   "cell_type": "code",
   "execution_count": 2,
   "id": "7d4ca980-b3ca-43e7-a70c-8fab75145e0d",
   "metadata": {},
   "outputs": [],
   "source": [
    "# Basis Pengetahuan\n",
    "penyakit_kulit = [\n",
    "    PenyakitKulit(\"Jerawat\", [\"pembengkakan kulit\", \"benjolan di kulit\"], [\"Mengompres dengan air hangat\", \"Mengurangi produksi minyak\"]),\n",
    "    PenyakitKulit(\"Bisul\", [\"bernanh\", \"demam\"], [\"Lakukan kompres dengan air hangat\", \"Mengurangi produksi minyak\"]),\n",
    "    PenyakitKulit(\"Campak\", [\"mata merah\", \"kulit kepala berminyak\"], [\"Minum banyak air\", \"Banyak istirahat\"]),\n",
    "    PenyakitKulit(\"Ketombe\", [\"merasa gatal\", \"luka dibagian mulut\"], [\"Mengurangi produksi minyak\", \"Melawan infeksi bakteri\"]),\n",
    "    PenyakitKulit(\"Sariawan\", [\"bergelembar isi air\", \"nyeri\"], [\"Mengurangi produksi minyak\", \"Melawan infeksi bakteri\"]),\n",
    "    PenyakitKulit(\"Herpes\", [\"melepuh\", \"timbul bercak merah\"], [\"Mengurangi produksi minyak\", \"Melawan infeksi bakteri\"]),\n",
    "    PenyakitKulit(\"Kudis\", [\"iritasi kulit\", \"muncul uban sebelum waktunya\"], [\"Mengurangi produksi minyak\", \"Melawan infeksi bakteri\"]),\n",
    "    PenyakitKulit(\"Impetigo\", [\"keringat yang berlebihan\", \"warna kekuningan pada kulit\"], [\"Mengurangi produksi minyak\", \"Melawan infeksi bakteri\"]),\n",
    "    PenyakitKulit(\"Lepra\", [\"pembengkakan kulit\", \"benjolan di kulit\"], [\"Mengurangi produksi minyak\", \"Melawan infeksi bakteri\"]),\n",
    "    PenyakitKulit(\"Keloid\", [\"bernanh\", \"demam\"], [\"Mengurangi produksi minyak\", \"Melawan infeksi bakteri\"]),\n",
    "    PenyakitKulit(\"Hemangioma\", [\"mata merah\", \"kaki berminyak\"], [\"Mengurangi produksi minyak\", \"Melawan infeksi bakteri\"]),\n",
    "    PenyakitKulit(\"Vitiligo\", [\"merasa gatal\", \"luka dibagian mulut\"], [\"Mengurangi produksi minyak\", \"Melawan infeksi bakteri\"]),\n",
    "    PenyakitKulit(\"Hypohidrosis\", [\"bergelembar isi air\", \"nyeri\"], [\"Mengurangi produksi minyak\", \"Melawan infeksi bakteri\"]),\n",
    "]\n"
   ]
  },
  {
   "cell_type": "markdown",
   "id": "39ff5640-70ca-47ec-9879-9494b82b8036",
   "metadata": {},
   "source": [
    "2. Bagian Basis Pengetahuan pada kode ini berisi daftar penyakit kulit yang direpresentasikan sebagai objek dari kelas PenyakitKulit. Setiap penyakit memiliki atribut nama, gejala, dan solusi. Misalnya, penyakit seperti \"Jerawat\" memiliki gejala seperti \"pembengkakan kulit\" dan \"benjolan di kulit\", serta solusi seperti \"Mengompres dengan air hangat\" dan \"Mengurangi produksi minyak\". Dengan struktur data ini, program dapat dengan mudah mencari penyakit berdasarkan gejala yang dimasukkan oleh pengguna, serta memberikan rekomendasi solusi yang sesuai. Hal ini sangat berguna dalam sistem pakar untuk diagnosis awal penyakit kulit."
   ]
  },
  {
   "cell_type": "code",
   "execution_count": 3,
   "id": "d730e794-d578-49da-9d1d-449bd74b3444",
   "metadata": {},
   "outputs": [],
   "source": [
    "aturan = [\n",
    "    {\"condition\": [\"pembengkakan kulit\", \"benjolan di kulit\"], \"consequence\": \"Jerawat\"},\n",
    "    {\"condition\": [\"bernanh\", \"demam\"], \"consequence\": \"Bisul\"},\n",
    "    {\"condition\": [\"mata merah\", \"kulit kepala berminyak\"], \"consequence\": \"Campak\"},\n",
    "    {\"condition\": [\"merasa gatal\", \"luka dibagian mulut\"], \"consequence\": \"Ketombe\"},\n",
    "    {\"condition\": [\"bergelembar isi air\", \"nyeri\"], \"consequence\": \"Hypohidrosis\"},\n",
    "]"
   ]
  },
  {
   "cell_type": "markdown",
   "id": "d03b4219-2a8a-4582-8414-2292389e237f",
   "metadata": {},
   "source": [
    "3. Kode ini mendefinisikan aturan inferensi yang digunakan dalam sistem pakar untuk mendiagnosis penyakit kulit berdasarkan gejala yang dialami pengguna. Setiap aturan berisi dua elemen utama: condition dan consequence. Bagian condition adalah daftar gejala spesifik yang, jika ditemukan pada pengguna, akan memicu bagian consequence, yaitu diagnosis penyakit tertentu. Misalnya, jika pengguna melaporkan gejala \"pembengkakan kulit\" dan \"benjolan di kulit\", sistem akan menyimpulkan bahwa penyakitnya adalah \"Jerawat\". Kumpulan aturan ini memungkinkan sistem pakar untuk melakukan forward chaining, yaitu mencocokkan gejala yang dimasukkan pengguna dengan aturan-aturan yang ada untuk menentukan penyakit yang paling mungkin diderita."
   ]
  },
  {
   "cell_type": "code",
   "execution_count": 4,
   "id": "7f21bc81-806d-4eb1-8741-641603f91a4c",
   "metadata": {},
   "outputs": [],
   "source": [
    "def backward_chaining(tujuan, aturan, penyakit_kulit, gejala_user):\n",
    "    \"\"\"\n",
    "    Melakukan inferensi backward chaining.\n",
    "\n",
    "    Args:\n",
    "        tujuan (str): Penyakit yang ingin didiagnosis.\n",
    "        aturan (list): Daftar aturan backward chaining.\n",
    "        penyakit_kulit (list): Daftar penyakit kulit.\n",
    "        gejala_user (list): Daftar gejala yang dimasukkan pengguna.\n",
    "\n",
    "    Returns:\n",
    "        tuple: Tuple yang berisi diagnosis (str) dan solusi (list).\n",
    "    \"\"\"\n",
    "    # Cari penyakit yang sesuai dengan tujuan\n",
    "    for penyakit in penyakit_kulit:\n",
    "        if penyakit.nama == tujuan:\n",
    "            # Periksa apakah semua gejala penyakit ada di gejala_user\n",
    "            if all(gejala.lower() in gejala_user for gejala in penyakit.gejala):\n",
    "                return penyakit.nama, penyakit.solusi\n",
    "\n",
    "    return \"Tidak ditemukan penyakit yang cocok\", []"
   ]
  },
  {
   "cell_type": "markdown",
   "id": "3c8f99e7-75b2-4dea-8299-b4b0af1dbbba",
   "metadata": {},
   "source": [
    "4. Fungsi backward_chaining adalah implementasi metode inferensi backward chaining untuk mendiagnosis penyakit kulit berdasarkan gejala yang diberikan oleh pengguna. Fungsi ini menerima empat parameter: tujuan (nama penyakit yang ingin dicari), aturan (daftar aturan yang digunakan untuk inferensi), penyakit_kulit (daftar penyakit yang tersedia), dan gejala_user (gejala yang dimasukkan oleh pengguna). Proses inferensi dimulai dengan mencari penyakit yang sesuai dengan tujuan, lalu memeriksa apakah semua gejala penyakit tersebut terdapat dalam gejala_user. Jika cocok, fungsi akan mengembalikan nama penyakit dan daftar solusi yang relevan. Jika tidak ada penyakit yang sesuai, fungsi akan mengembalikan pesan bahwa tidak ditemukan penyakit yang cocok."
   ]
  },
  {
   "cell_type": "code",
   "execution_count": 7,
   "id": "b9677f3e-8eb2-41b6-9320-0983e690152e",
   "metadata": {},
   "outputs": [],
   "source": [
    "def main():\n",
    "    \"\"\"\n",
    "    Fungsi utama program.\n",
    "    \"\"\"\n",
    "    print(\"Selamat datang di Sistem Pakar Penyakit Kulit!\")\n",
    "    gejala_user = []\n",
    "    while True:\n",
    "        gejala = input(\"Masukkan gejala yang Anda alami (ketik 'selesai' untuk berhenti): \")\n",
    "        if gejala.lower() == 'selesai':\n",
    "            break\n",
    "        gejala_user.append(gejala.lower())\n",
    "           # Menentukan tujuan untuk backward chaining\n",
    "    print(\"\\nMasukkan nama penyakit untuk diagnosis (misal: Jerawat, Bisul, dll): \")\n",
    "    tujuan = input().capitalize()\n",
    "\n",
    "    diagnosis, solusi = backward_chaining(tujuan, aturan, penyakit_kulit, gejala_user)\n",
    "    print(f\"Diagnosis: {diagnosis}\")\n",
    "    if solusi:\n",
    "        print(\"Solusi:\")\n",
    "        for sol in solusi:\n",
    "            print(f\"- {sol}\")"
   ]
  },
  {
   "cell_type": "markdown",
   "id": "b3dac553-a829-4cd3-8e27-7909457f28be",
   "metadata": {},
   "source": [
    "5. Fungsi main() ini adalah titik masuk dari program Sistem Pakar Penyakit Kulit yang menggunakan metode backward chaining untuk mendiagnosis penyakit. Pertama, pengguna diminta memasukkan gejala-gejala yang dialami satu per satu, dan bisa mengetik \"selesai\" jika sudah selesai. Setelah itu, pengguna juga diminta memasukkan nama penyakit yang ingin diperiksa, seperti \"Jerawat\" atau \"Bisul\". Berdasarkan input ini, fungsi backward_chaining akan mencoba mencocokkan gejala yang dimasukkan dengan aturan yang ada untuk penyakit yang dituju. Jika diagnosis berhasil, program akan menampilkan nama penyakit beserta solusi pengobatannya. Jika tidak, akan diberitahukan bahwa penyakit yang sesuai tidak ditemukan."
   ]
  },
  {
   "cell_type": "code",
   "execution_count": 9,
   "id": "abdefe9d-1783-4a26-a5bd-1877c6276896",
   "metadata": {},
   "outputs": [
    {
     "name": "stdout",
     "output_type": "stream",
     "text": [
      "Selamat datang di Sistem Pakar Penyakit Kulit!\n"
     ]
    },
    {
     "name": "stdin",
     "output_type": "stream",
     "text": [
      "Masukkan gejala yang Anda alami (ketik 'selesai' untuk berhenti):  pembengkakan kulit\n",
      "Masukkan gejala yang Anda alami (ketik 'selesai' untuk berhenti):  benjolan di kulit\n",
      "Masukkan gejala yang Anda alami (ketik 'selesai' untuk berhenti):  selesai\n"
     ]
    },
    {
     "name": "stdout",
     "output_type": "stream",
     "text": [
      "\n",
      "Masukkan nama penyakit untuk diagnosis (misal: Jerawat, Bisul, dll): \n"
     ]
    },
    {
     "name": "stdin",
     "output_type": "stream",
     "text": [
      " jerawat\n"
     ]
    },
    {
     "name": "stdout",
     "output_type": "stream",
     "text": [
      "Diagnosis: Jerawat\n",
      "Solusi:\n",
      "- Mengompres dengan air hangat\n",
      "- Mengurangi produksi minyak\n"
     ]
    }
   ],
   "source": [
    "if __name__ == \"__main__\":\n",
    "    main()"
   ]
  },
  {
   "cell_type": "markdown",
   "id": "4033b29f-e0b9-4fce-8fb8-ea155bc292fd",
   "metadata": {},
   "source": [
    "6. Baris kode if __name__ == \"__main__\": main() berfungsi untuk memastikan bahwa fungsi main() hanya akan dijalankan jika file Python ini dijalankan secara langsung, bukan di-import sebagai modul di file lain. Dalam konteks ini, jika file tersebut dieksekusi, maka program akan langsung memulai dengan memanggil fungsi main() yang berisi logika untuk diagnosis penyakit kulit. Ini adalah cara standar di Python untuk membuat program yang bisa dijalankan sebagai skrip mandiri sekaligus dapat di-import tanpa otomatis mengeksekusi fungsi tertentu."
   ]
  },
  {
   "cell_type": "code",
   "execution_count": null,
   "id": "b6ba8255-5a65-4824-8286-6ef22675edb9",
   "metadata": {},
   "outputs": [],
   "source": []
  }
 ],
 "metadata": {
  "kernelspec": {
   "display_name": "Python 3 (ipykernel)",
   "language": "python",
   "name": "python3"
  },
  "language_info": {
   "codemirror_mode": {
    "name": "ipython",
    "version": 3
   },
   "file_extension": ".py",
   "mimetype": "text/x-python",
   "name": "python",
   "nbconvert_exporter": "python",
   "pygments_lexer": "ipython3",
   "version": "3.12.7"
  }
 },
 "nbformat": 4,
 "nbformat_minor": 5
}
