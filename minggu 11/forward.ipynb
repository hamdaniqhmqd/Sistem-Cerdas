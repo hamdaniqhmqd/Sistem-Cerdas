{
 "cells": [
  {
   "cell_type": "markdown",
   "metadata": {},
   "source": [
    "Pada dictonary dataPenyakit merupakan sebuah dictionary yang berisi data tentang penyakit yang dapat diidentifikasi berdasarkan gejala-gejala tertentu. Kunci (key) dari dictionary ini adalah kode penyakit (seperti DP1, DP2, dst.), dan nilai (value) dari kunci tersebut adalah nama penyakit yang sesuai dengan kode tersebut.\n",
    "\n",
    "Pada dictonary dataGejala merupakan dictionary yang berisi daftar gejala yang dapat dikenali, dengan kunci (key) yang merujuk pada kode gejala (seperti DG1, DG2, dst.), dan nilai (value) dari kunci tersebut adalah deskripsi gejala yang sesuai dengan kode tersebut."
   ]
  },
  {
   "cell_type": "code",
   "execution_count": 20,
   "metadata": {},
   "outputs": [],
   "source": [
    "dataPenyakit = {\n",
    "    \"DP1\": \"Diare\",\n",
    "    \"DP2\": \"Kejang Demam\",\n",
    "    \"DP3\": \"Bronchopneumonia\",\n",
    "    \"DP4\": \"Asma\",\n",
    "    \"DP5\": \"Cacingan\"\n",
    "}\n",
    "\n",
    "dataGejala = {\n",
    "    \"DG1\": \"Bab cair lebih dari 3x sehari\",\n",
    "    \"DG2\": \"Lesu\",\n",
    "    \"DG3\": \"Nafsu makan berkurang\",\n",
    "    \"DG4\": \"Keram pada perut\",\n",
    "    \"DG5\": \"Perut kembung\",\n",
    "    \"DG6\": \"Demam\",\n",
    "    \"DG7\": \"Muntah\",\n",
    "    \"DG8\": \"Kejang 1-2x sehari\",\n",
    "    \"DG9\": \"Bab cair\",\n",
    "    \"DG10\": \"Sesak nafas\",\n",
    "    \"DG11\": \"Terlihat sangat mengantuk\",\n",
    "    \"DG12\": \"Batuk\",\n",
    "    \"DG13\": \"Pilek\",\n",
    "    \"DG14\": \"Menggigil\",\n",
    "    \"DG15\": \"Dada terasa sakit\",\n",
    "    \"DG16\": \"Sakit kepala\",\n",
    "    \"DG17\": \"Nafas berbunyi (mengi)\",\n",
    "    \"DG18\": \"Faktor keturunan\",\n",
    "    \"DG19\": \"Susah tidur\",\n",
    "    \"DG20\": \"Anak tampak kurus\",\n",
    "    \"DG21\": \"Pucat\",\n",
    "    \"DG22\": \"Gatal sekitar anus\",\n",
    "    \"DG23\": \"Gelisah atau tidak nyaman saat tidur\",\n",
    "    \"DG24\": \"Iritasi kulit sekitar anus\",\n",
    "    \"DG25\": \"Sering sakit perut\"\n",
    "}"
   ]
  },
  {
   "cell_type": "markdown",
   "metadata": {},
   "source": [
    "Pada kode dibawah ini digunakan untuk menerima inputan dari pengguna dan menampilkannya ulang dengan format seperti contoh dibawah ini.\n",
    "(Anak tampak kurus, Pucat, Gatal sekitar anus, Gelisah atau tidak nyaman saat tidur, Iritasi kulit sekitar anus, Sering sakit perut) maka menghasilkan data Cacingan"
   ]
  },
  {
   "cell_type": "code",
   "execution_count": null,
   "metadata": {},
   "outputs": [],
   "source": [
    "input_gejala = input(\"Gejala (pisahkan dengan koma): \").strip().split(',')\n",
    "input_gejala = [gejala.strip() for gejala in input_gejala]\n",
    "\n",
    "print(\"\\nGejala yang Anda masukkan:\")\n",
    "for gejala in input_gejala:\n",
    "    print(f\"- {gejala}\")"
   ]
  },
  {
   "cell_type": "markdown",
   "metadata": {},
   "source": [
    "Pada kode di bawah ini menjelaskan kode untuk melakukan pengecekan apakah gejala cocok atau tidak, jika iya maka akan menampilkan penyakit apa yang sesuai dengan gejala tersebut."
   ]
  },
  {
   "cell_type": "code",
   "execution_count": null,
   "metadata": {},
   "outputs": [
    {
     "name": "stdout",
     "output_type": "stream",
     "text": [
      "\n",
      "Gejala yang Anda masukkan:\n",
      "- Anak tampak kurus\n",
      "- Pucat\n",
      "- Gatal sekitar anus\n",
      "- Gelisah atau tidak nyaman saat tidur\n",
      "- Iritasi kulit sekitar anus\n",
      "- Sering sakit perut\n",
      "\n",
      "Penyakit yang teridentifikasi:\n",
      "Cacingan\n"
     ]
    }
   ],
   "source": [
    "print(\"\\nPenyakit yang teridentifikasi:\")\n",
    "\n",
    "if any(dataGejala[gejala_code].lower() == gejala.lower() for gejala_code in [\"DG1\", \"DG2\", \"DG3\", \"DG4\", \"DG5\", \"DG6\", \"DG7\"] for gejala in input_gejala):\n",
    "    print(dataPenyakit[\"DP1\"])\n",
    "\n",
    "elif any(dataGejala[gejala_code].lower() == gejala.lower() for gejala_code in [\"DG6\", \"DG7\", \"DG9\", \"DG10\", \"DG11\", \"DG12\", \"DG13\"] for gejala in input_gejala):\n",
    "    print(dataPenyakit[\"DP2\"])\n",
    "\n",
    "elif any(dataGejala[gejala_code].lower() == gejala.lower() for gejala_code in [\"DG3\", \"DG6\", \"DG10\", \"DG12\", \"DG14\", \"DG15\", \"DG16\"] for gejala in input_gejala):\n",
    "    print(dataPenyakit[\"DP3\"])\n",
    "\n",
    "elif any(dataGejala[gejala_code].lower() == gejala.lower() for gejala_code in [\"DG2\", \"DG10\", \"DG12\", \"DG17\", \"DG18\", \"DG19\"] for gejala in input_gejala):\n",
    "    print(dataPenyakit[\"DP4\"])\n",
    "\n",
    "elif any(dataGejala[gejala_code].lower() == gejala.lower() for gejala_code in [\"DG20\", \"DG21\", \"DG22\", \"DG23\", \"DG24\", \"DG25\"] for gejala in input_gejala):\n",
    "    print(dataPenyakit[\"DP5\"])\n",
    "\n",
    "else:\n",
    "    print(\"Penyakit tidak teridentifikasi berdasarkan gejala yang diberikan.\")"
   ]
  }
 ],
 "metadata": {
  "kernelspec": {
   "display_name": "Python 3",
   "language": "python",
   "name": "python3"
  },
  "language_info": {
   "codemirror_mode": {
    "name": "ipython",
    "version": 3
   },
   "file_extension": ".py",
   "mimetype": "text/x-python",
   "name": "python",
   "nbconvert_exporter": "python",
   "pygments_lexer": "ipython3",
   "version": "3.12.6"
  }
 },
 "nbformat": 4,
 "nbformat_minor": 2
}
