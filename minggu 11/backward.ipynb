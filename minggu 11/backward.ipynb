{
 "cells": [
  {
   "cell_type": "markdown",
   "metadata": {},
   "source": [
    "Pada dictonary dataGejala merupakan dictionary yang berisi daftar gejala yang dapat dikenali, dengan kunci (key) yang merujuk pada kode gejala (seperti DG1, DG2, dst.), dan nilai (value) dari kunci tersebut adalah deskripsi gejala yang sesuai dengan kode tersebut."
   ]
  },
  {
   "cell_type": "code",
   "execution_count": 6,
   "metadata": {},
   "outputs": [],
   "source": [
    "dataGejala = {\n",
    "    \"DG1\": \"Bab cair lebih dari 3x sehari\",\n",
    "    \"DG2\": \"Lesu\",\n",
    "    \"DG3\": \"Nafsu makan berkurang\",\n",
    "    \"DG4\": \"Keram pada perut\",\n",
    "    \"DG5\": \"Perut kembung\",\n",
    "    \"DG6\": \"Demam\",\n",
    "    \"DG7\": \"Muntah\",\n",
    "    \"DG8\": \"Kejang 1-2x sehari\",\n",
    "    \"DG9\": \"Bab cair\",\n",
    "    \"DG10\": \"Sesak nafas\",\n",
    "    \"DG11\": \"Terlihat sangat mengantuk\",\n",
    "    \"DG12\": \"Batuk\",\n",
    "    \"DG13\": \"Pilek\",\n",
    "    \"DG14\": \"Menggigil\",\n",
    "    \"DG15\": \"Dada terasa sakit\",\n",
    "    \"DG16\": \"Sakit kepala\",\n",
    "    \"DG17\": \"Nafas berbunyi (mengi)\",\n",
    "    \"DG18\": \"Faktor keturunan\",\n",
    "    \"DG19\": \"Susah tidur\",\n",
    "    \"DG20\": \"Anak tampak kurus\",\n",
    "    \"DG21\": \"Pucat\",\n",
    "    \"DG22\": \"Gatal sekitar anus\",\n",
    "    \"DG23\": \"Gelisah atau tidak nyaman saat tidur\",\n",
    "    \"DG24\": \"Iritasi kulit sekitar anus\",\n",
    "    \"DG25\": \"Sering sakit perut\"\n",
    "}"
   ]
  },
  {
   "cell_type": "markdown",
   "metadata": {},
   "source": [
    "Kode gejala_to_penyakit adalah dictionary yang menyimpan hubungan antara penyakit dan gejala-gejala yang menjadi indikasinya dalam bentuk kode."
   ]
  },
  {
   "cell_type": "code",
   "execution_count": 8,
   "metadata": {},
   "outputs": [],
   "source": [
    "gejala_to_penyakit = {\n",
    "    \"Diare\": {\"DG1\", \"DG2\", \"DG3\", \"DG4\", \"DG5\", \"DG6\", \"DG7\"},\n",
    "    \"Kejang Demam\": {\"DG6\", \"DG7\", \"DG9\", \"DG10\", \"DG11\", \"DG12\", \"DG13\"},\n",
    "    \"Bronchopneumonia\": {\"DG3\", \"DG6\", \"DG10\", \"DG12\", \"DG14\", \"DG15\", \"DG16\"},\n",
    "    \"Asma\": {\"DG2\", \"DG10\", \"DG12\", \"DG17\", \"DG18\", \"DG19\"},\n",
    "    \"Cacingan\": {\"DG20\", \"DG21\", \"DG22\", \"DG23\", \"DG24\", \"DG25\"}\n",
    "}"
   ]
  },
  {
   "cell_type": "markdown",
   "metadata": {},
   "source": [
    "Kode tersebut adalah implementasi sistem pakar untuk mendiagnosis penyakit berdasarkan gejala menggunakan metode backward chaining. Berikut penjelasannya:\n",
    "1. Deklarasikan fungsi backward_chaining yang digunakan untuk mengecek apakah penyakit (parameter tujuan) ada dalam gejala_to_penyakit. Jika ada, fungsi akan memeriksa setiap gejala yang terkait dengan penyakit tersebut.Jika gejala belum ada dalam gejala_fakta, pengguna akan ditanya apakah mengalami gejala itu. Jika dijawab \"y\", gejala akan ditambahkan ke gejala_fakta; jika dijawab \"t\", fungsi mengembalikan False, artinya diagnosis gagal untuk penyakit itu.\n",
    "2. Deklarasikan variabel gejala_fakta yang digunakan untuk menyimpan gejala-gejala yang dikonfirmasi oleh pengguna.\n",
    "3. Deklarasikan variabel penyakit_diduga yang digunakan untuk menyimpan daftar penyakit yang akan diperiksa.\n",
    "4. Deklarasian variabel diagnosis yang digunakan untuk menyimpan penyakit yang mungkin berdasarkan gejala.\n",
    "5. Proses diagnosa yang berupa fungsi backward_chaining dipanggil untuk setiap penyakit dalam penyakit_diduga. Jika semua gejala penyakit dikonfirmasi pengguna, penyakit ditambahkan ke diagnosis.\n",
    "\n",
    "Jika ada penyakit yang didiagnosis, program akan mencetak nama penyakit beserta daftar gejalanya. Jika tidak ada penyakit yang cocok, pesan bahwa tidak ada penyakit yang sesuai akan ditampilkan."
   ]
  },
  {
   "cell_type": "code",
   "execution_count": null,
   "metadata": {},
   "outputs": [
    {
     "name": "stdout",
     "output_type": "stream",
     "text": [
      "Penyakit yang mungkin berdasarkan gejala:\n",
      "- Diare (Gejala: Demam, Perut kembung, Keram pada perut, Muntah, Nafsu makan berkurang, Lesu, Bab cair lebih dari 3x sehari)\n"
     ]
    }
   ],
   "source": [
    "def backward_chaining(tujuan, gejala_fakta):\n",
    "    if tujuan in gejala_to_penyakit:\n",
    "        for gejala in gejala_to_penyakit[tujuan]:\n",
    "            if gejala not in gejala_fakta:\n",
    "                response = input(f\"Apakah Anda mengalami {dataGejala[gejala]}? (y/t): \").strip().lower()\n",
    "                if response == \"y\":\n",
    "                    gejala_fakta.add(gejala)\n",
    "                else:\n",
    "                    return False\n",
    "        return True\n",
    "    return False\n",
    "\n",
    "gejala_fakta = set()\n",
    "penyakit_diduga = [\"Diare\", \"Kejang Demam\", \"Bronchopneumonia\", \"Asma\", \"Cacingan\"]\n",
    "diagnosis = []\n",
    "\n",
    "for penyakit in penyakit_diduga:\n",
    "    if backward_chaining(penyakit, gejala_fakta):\n",
    "        diagnosis.append((penyakit, gejala_to_penyakit[penyakit]))\n",
    "\n",
    "if diagnosis:\n",
    "    print(\"Penyakit yang mungkin berdasarkan gejala:\")\n",
    "    for penyakit, gejala in diagnosis:\n",
    "        gejala_list = [dataGejala[g] for g in gejala]\n",
    "        print(f\"- {penyakit} (Gejala: {', '.join(gejala_list)})\")\n",
    "else:\n",
    "    print(\"Tidak ada penyakit yang cocok berdasarkan gejala.\")"
   ]
  }
 ],
 "metadata": {
  "kernelspec": {
   "display_name": "Python 3",
   "language": "python",
   "name": "python3"
  },
  "language_info": {
   "codemirror_mode": {
    "name": "ipython",
    "version": 3
   },
   "file_extension": ".py",
   "mimetype": "text/x-python",
   "name": "python",
   "nbconvert_exporter": "python",
   "pygments_lexer": "ipython3",
   "version": "3.12.6"
  }
 },
 "nbformat": 4,
 "nbformat_minor": 2
}
