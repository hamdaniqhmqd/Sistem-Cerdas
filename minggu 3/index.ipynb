{
 "cells": [
  {
   "cell_type": "markdown",
   "metadata": {},
   "source": [
    "Nama  : Ahmad hamdani\n",
    "Nim   : 233307092\n",
    "Kelas : 3D"
   ]
  },
  {
   "cell_type": "markdown",
   "metadata": {},
   "source": [
    "1. Breadth-First Search, Mencari jalur yang dimulai dani node A menggunakan algoritma BFS.\n",
    "<img src=\"1.png\">"
   ]
  },
  {
   "cell_type": "code",
   "execution_count": 2,
   "metadata": {},
   "outputs": [
    {
     "name": "stdout",
     "output_type": "stream",
     "text": [
      "Hasil Algortima Breadth-First Search\n",
      "A\n",
      "B\n",
      "C\n",
      "D\n",
      "E\n",
      "F\n",
      "G\n",
      "I\n",
      "I\n"
     ]
    }
   ],
   "source": [
    "graph = {\n",
    "  'A' : ['B', 'C', 'D'],\n",
    "  'B' : ['E', 'F'],\n",
    "  'C' : ['G', 'I'],\n",
    "  'D' : ['I'],\n",
    "  'E' : [],\n",
    "  'F' : [],\n",
    "  'G' : [],\n",
    "  'I' : [],\n",
    "}\n",
    "\n",
    "def bfs(visit_complete, graph, current_node):\n",
    "  \n",
    "  visit_complete.append(current_node)\n",
    "  \n",
    "  queue = []\n",
    "  \n",
    "  queue.append(current_node)\n",
    "  \n",
    "  while queue:\n",
    "    \n",
    "    s = queue.pop(0)\n",
    "    \n",
    "    print(s)\n",
    "    \n",
    "    for neighbour in graph[s]:\n",
    "      visit_complete.append(neighbour)\n",
    "      \n",
    "      queue.append(neighbour)\n",
    "      \n",
    "print(\"Hasil Algortima Breadth-First Search\")\n",
    "\n",
    "bfs([], graph, 'A')"
   ]
  },
  {
   "cell_type": "markdown",
   "metadata": {},
   "source": [
    "2. Contoh lain algoritma Breadth-First Search (BFS), Lengkapi dan jalankan program untuk menentukan rute mulai dari A hingga akhir simpul sesuai gambar dibawah ini.\n",
    "<img src=\"2.png\">"
   ]
  },
  {
   "cell_type": "code",
   "execution_count": 4,
   "metadata": {},
   "outputs": [
    {
     "name": "stdout",
     "output_type": "stream",
     "text": [
      "Hasil Algortima Breadth-First Search : \n",
      "['A', 'B', 'C', 'D', 'E', 'F', 'G', 'H', 'I', 'J', 'K', 'L']\n"
     ]
    }
   ],
   "source": [
    "graph = {\n",
    "  'A' : ['B', 'C'],\n",
    "  'B' : ['D', 'E'],\n",
    "  'C' : ['F', 'G'],\n",
    "  'D' : ['H'],\n",
    "  'E' : ['I'],\n",
    "  'F' : [],\n",
    "  'G' : ['J', 'K'],\n",
    "  'H' : [],\n",
    "  'I' : [],\n",
    "  'J' : [],\n",
    "  'K' : ['L'],\n",
    "}\n",
    "\n",
    "def bfs(graph, start, end):\n",
    "  \n",
    "  queue = []\n",
    "  \n",
    "  queue.append(start)\n",
    "  \n",
    "  path = []\n",
    "  \n",
    "  while queue:\n",
    "    \n",
    "    node = queue.pop(0)\n",
    "    \n",
    "    if node == end:\n",
    "      return path + [node]\n",
    "    \n",
    "    path.append(node)\n",
    "    \n",
    "    for neighbor in graph[node]:\n",
    "      \n",
    "      if neighbor not in queue:\n",
    "        \n",
    "        queue.append(neighbor)\n",
    "    \n",
    "path = bfs(graph, 'A', 'L')\n",
    "\n",
    "print(\"Hasil Algortima Breadth-First Search : \")\n",
    "print(path)"
   ]
  },
  {
   "cell_type": "markdown",
   "metadata": {},
   "source": [
    "3.  Depth-First Search (DFS), lengkapi program dibawah ini untuk mencari jalur yang dimulai dari node 5 menggunakan algortima DFS.\n",
    "<img src=\"3.png\">"
   ]
  },
  {
   "cell_type": "code",
   "execution_count": 8,
   "metadata": {},
   "outputs": [
    {
     "name": "stdout",
     "output_type": "stream",
     "text": [
      "Hasil Algoritma Depth-First Search\n",
      "5\n",
      "3\n",
      "2\n",
      "4\n",
      "8\n",
      "7\n"
     ]
    }
   ],
   "source": [
    "graph = {\n",
    "  '5' : ['3', '7'],\n",
    "  '3' : ['2', '4'],\n",
    "  '7' : ['8'],\n",
    "  '2' : [],\n",
    "  '4' : ['8'],\n",
    "  '8' : [],\n",
    "}\n",
    "\n",
    "visited = set()\n",
    "\n",
    "def dfs(visited, graph, node):\n",
    "  \n",
    "  if node not in visited:\n",
    "    \n",
    "    print(node)\n",
    "    \n",
    "    visited.add(node)\n",
    "    \n",
    "    for neighbor in graph[node]:\n",
    "      \n",
    "      dfs(visited, graph, neighbor)\n",
    "      \n",
    "print(\"Hasil Algoritma Depth-First Search\")\n",
    "dfs(visited, graph, '5')"
   ]
  },
  {
   "cell_type": "markdown",
   "metadata": {},
   "source": [
    "4. . Contoh lain dari algoritma Depth-First Search (DFS), Lengkapi dan jalankan program untuk menentukan rute mulai dari node 1 hingga 10 sesuai gambar di bawah ini.\n",
    "<img src=\"4.png\">"
   ]
  },
  {
   "cell_type": "code",
   "execution_count": 10,
   "metadata": {},
   "outputs": [
    {
     "name": "stdout",
     "output_type": "stream",
     "text": [
      "Hasil Algortima Depth-First Search : \n",
      "['1', '9', '5', '2', '10']\n"
     ]
    }
   ],
   "source": [
    "graph = {\n",
    "  '1' : ['2', '5', '9'],\n",
    "  '2' : ['3'],\n",
    "  '5' : ['6', '8'],\n",
    "  '9' : ['10'],\n",
    "  '3' : ['4'],\n",
    "  '6' : ['7'],\n",
    "  '8' : [],\n",
    "  '10' : [],\n",
    "  '4' : [],\n",
    "  '7' : [],\n",
    "}\n",
    "\n",
    "def dfs(graph, start, end):\n",
    "  stack = []\n",
    "  \n",
    "  stack.append(start)\n",
    "  \n",
    "  path = []\n",
    "  \n",
    "  while stack:\n",
    "    \n",
    "    node = stack.pop(0)\n",
    "    \n",
    "    if node == end:\n",
    "      return path + [node]\n",
    "    \n",
    "    path.append(node)\n",
    "    \n",
    "    for neighbor in reversed(graph[node]):\n",
    "      \n",
    "      if neighbor not in path:\n",
    "        \n",
    "        stack.append(neighbor)\n",
    "        \n",
    "path = dfs(graph, '1', '10')\n",
    "\n",
    "print(\"Hasil Algortima Depth-First Search : \")\n",
    "print(path)"
   ]
  },
  {
   "cell_type": "markdown",
   "metadata": {},
   "source": [
    "5. Depth-Limited Search (DPS), Lengkapi dan jalankan program untuk menentukan rute mulai dari S hingga J sesuai gambar di bawah ini (abaikan panah titik-titik).\n",
    "<img src=\"5.png\">"
   ]
  },
  {
   "cell_type": "code",
   "execution_count": 21,
   "metadata": {},
   "outputs": [
    {
     "name": "stdout",
     "output_type": "stream",
     "text": [
      "['S', 'A', 'B', 'J']\n"
     ]
    }
   ],
   "source": [
    "graph = {\n",
    "  'S' : ['A', 'B'],\n",
    "  'A' : ['C', 'D'],\n",
    "  'B' : ['I', 'J'],\n",
    "  'C' : ['E', 'F'],\n",
    "  'D' : ['G'],\n",
    "  'I' : ['H'],\n",
    "  'J' : [],\n",
    "  'E' : [],\n",
    "  'F' : [],\n",
    "  'G' : [],\n",
    "  'H' : [],\n",
    "}\n",
    "\n",
    "def dfs(graph, start, end, depth):\n",
    "  \n",
    "  stack = []\n",
    "  \n",
    "  stack.append((start, 0))\n",
    "  \n",
    "  path = []\n",
    "  \n",
    "  while stack:\n",
    "    \n",
    "    node, current_depth = stack.pop(0)\n",
    "    \n",
    "    if node == end:\n",
    "      return path + [node]\n",
    "    \n",
    "    if current_depth < depth:\n",
    "      \n",
    "      path.append(node)\n",
    "      \n",
    "    for neighbor in graph[node]:\n",
    "      \n",
    "      if neighbor not in path:\n",
    "        \n",
    "        stack.append((neighbor, current_depth + 1))\n",
    "        \n",
    "path = dfs(graph, \"S\", \"J\", 2)\n",
    "\n",
    "print(path)"
   ]
  },
  {
   "cell_type": "markdown",
   "metadata": {},
   "source": [
    "6. Contoh lain dari algoritma Depth-Limited Search (DLS), Lengkapi dan jalankan program untuk menentukan rute mulai dari A hingga simpul yang ditentukan sesuai gambar di bawah ini.\n",
    "\n",
    "<img src=\"6.png\">"
   ]
  },
  {
   "cell_type": "code",
   "execution_count": 59,
   "metadata": {},
   "outputs": [
    {
     "name": "stdout",
     "output_type": "stream",
     "text": [
      "\n",
      "Level Sekarang -->  0\n",
      "Node yang sedang dicek  A\n",
      "Bukan simpul tujuan\n",
      "\n",
      "Lanjutan dari simpul  A\n",
      "Level Sekarang -->  1\n",
      "Node yang sedang dicek  Z\n",
      "Bukan simpul tujuan\n",
      "\n",
      "Lanjutan dari simpul  Z\n",
      "Level Sekarang -->  2\n",
      "Node yang sedang dicek  O\n",
      "Bukan simpul tujuan\n",
      "\n",
      "Lanjutan dari simpul  O\n",
      "Level Sekarang -->  1\n",
      "Node yang sedang dicek  S\n",
      "Bukan simpul tujuan\n",
      "\n",
      "Lanjutan dari simpul  S\n",
      "Level Sekarang -->  2\n",
      "Node yang sedang dicek  F\n",
      "Bukan simpul tujuan\n",
      "\n",
      "Lanjutan dari simpul  F\n",
      "Level Sekarang -->  3\n",
      "Node yang sedang dicek  B\n",
      "Simpul Tujuan\n",
      "Jalur ke simpul tujuan telah ditemukan\n",
      "Path ['A', 'Z', 'O', 'S', 'F', 'B']\n"
     ]
    }
   ],
   "source": [
    "graph = {\n",
    "  'A' : ['Z', 'S', 'T'],\n",
    "  'Z' : ['O'],\n",
    "  'S' : ['O', 'F', 'R'],\n",
    "  'T' : ['L'],\n",
    "  'O' : ['S'],\n",
    "  'O' : [],\n",
    "  'F' : ['F'],\n",
    "  'R' : ['C', 'P'],\n",
    "  'L' : ['M'],\n",
    "  'S' : ['F', 'R'],\n",
    "  'B' : [],\n",
    "  'C' : [],\n",
    "  'P' : [],\n",
    "  'M' : ['D'],\n",
    "  'F' : ['B'],\n",
    "  'R' : [],\n",
    "  'D' : [],\n",
    "  'B' : [],\n",
    "}\n",
    "\n",
    "def dls(start, goal, path, level, maxD):\n",
    "  print(\"Level Sekarang --> \", level)\n",
    "  print(\"Node yang sedang dicek \", start)\n",
    "  \n",
    "  path.append(start)\n",
    "  \n",
    "  if start == goal:\n",
    "    print(\"Simpul Tujuan\")\n",
    "    return path\n",
    "  \n",
    "  print(\"Bukan simpul tujuan\")\n",
    "  \n",
    "  if level == maxD:\n",
    "    # path.pop()\n",
    "    return False\n",
    "  \n",
    "  print(\"\\nLanjutan dari simpul \", start)\n",
    "  \n",
    "  for child in graph[start]:\n",
    "    \n",
    "    if dls(child, goal, path, level + 1, maxD):\n",
    "      return path\n",
    "    \n",
    "  # path.pop()\n",
    "    \n",
    "  return False\n",
    "\n",
    "start = 'A'\n",
    "# goal = 'B'\n",
    "goal = input('Simpul Tujuan : ')\n",
    "# maxD = 10\n",
    "maxD = int(input(\"Maximum depth limit : \"))\n",
    "print()\n",
    "\n",
    "path = []\n",
    "res = dls(start, goal, path, 0, maxD)\n",
    "\n",
    "if (res):\n",
    "  print(\"Jalur ke simpul tujuan telah ditemukan\")\n",
    "  print(\"Path\", path)\n",
    "else:\n",
    "  print(\"Jalur ke simpul tujuan tidak ditemukan dalam depth limit tsb.\")"
   ]
  },
  {
   "cell_type": "markdown",
   "metadata": {},
   "source": [
    "7. Algoritma Uniform-Cost Search (UCS), Lengkapi dan jalankan program untuk menentukan rute mulai dari S hingga G sesuai gambar di bawah ini.\n",
    "\n",
    "<img src=\"7.png\">"
   ]
  },
  {
   "cell_type": "code",
   "execution_count": 74,
   "metadata": {},
   "outputs": [
    {
     "name": "stdout",
     "output_type": "stream",
     "text": [
      "Jalur terpendek :  ['S', 'A', 'D', 'G']\n"
     ]
    }
   ],
   "source": [
    "graph = {\n",
    "  'S' : {'A': 1, 'B': 4},\n",
    "  'A' : {'C': 3, 'D': 2},\n",
    "  'B' : {'G': 5},\n",
    "  'C' : {'E': 5},\n",
    "  'D' : {'F': 0, 'G': 3},\n",
    "  'G' : {},\n",
    "  'E' : {'G': 5},\n",
    "  'F' : {},\n",
    "  'G' : {},\n",
    "  'G' : {},\n",
    "}\n",
    "\n",
    "\n",
    "def ucs(graph, start, end):\n",
    "  \n",
    "  queue = []\n",
    "  \n",
    "  queue.append((start, 0))\n",
    "  \n",
    "  path_cost = {start: 0}\n",
    "  path = {}\n",
    "  \n",
    "  while queue:\n",
    "    \n",
    "    node, cost = queue.pop(0)\n",
    "    \n",
    "    if node == end:\n",
    "      path_nodes = []\n",
    "      while node != start:\n",
    "        path_nodes.append(node)\n",
    "        node = path[node]\n",
    "      path_nodes.append(start)\n",
    "      return list(reversed(path_nodes))\n",
    "    \n",
    "    for neighbor, neighbor_cost in graph.get(node, {}).items():\n",
    "      new_cost = cost + neighbor_cost\n",
    "      if neighbor not in path_cost or new_cost < path_cost[neighbor]:\n",
    "        path_cost[neighbor] = new_cost\n",
    "        queue.append((neighbor, new_cost))\n",
    "        path[neighbor] = node\n",
    "        \n",
    "  return None\n",
    "\n",
    "path = ucs(graph, 'S', 'G')\n",
    "\n",
    "if path:\n",
    "  print(\"Jalur terpendek : \", path)\n",
    "else:\n",
    "  print(\"Tidak ada jalur yang ditemukan.\")\n"
   ]
  },
  {
   "cell_type": "markdown",
   "metadata": {},
   "source": [
    "8. Iterative-Deepening Dept First Search (IDDFS), Lengkapi dan jalankan program untuk menentukan rute mulai dari A hingga G dengan kedalaman 4 sesuai gambar di bawah ini.\n",
    "<img src=\"8.png\">"
   ]
  },
  {
   "cell_type": "code",
   "execution_count": 65,
   "metadata": {},
   "outputs": [
    {
     "name": "stdout",
     "output_type": "stream",
     "text": [
      "['A', 'C', 'G']\n"
     ]
    }
   ],
   "source": [
    "graph = {\n",
    "  'A' : ['B', 'C'],\n",
    "  'B' : ['D', 'E'],\n",
    "  'C' : ['F', 'G'],\n",
    "  'D' : ['H', 'I'],\n",
    "  'E' : [],\n",
    "  'F' : ['K'],\n",
    "  'G' : [],\n",
    "  'H' : [],\n",
    "  'I' : [],\n",
    "  'K' : [],\n",
    "}\n",
    "\n",
    "def iddfs(graph, start, end, depth):\n",
    "  \n",
    "  stack = []\n",
    "  \n",
    "  stack.append((start, 0))\n",
    "  \n",
    "  path = []\n",
    "  \n",
    "  while stack:\n",
    "    node, currnet_depth = stack.pop()\n",
    "    \n",
    "    if node == end:\n",
    "      return path + [node]\n",
    "    \n",
    "    if currnet_depth < depth:\n",
    "      path.append(node)\n",
    "      \n",
    "      for neighbor in graph[node]:\n",
    "        if neighbor not in path:\n",
    "          stack.append((neighbor, currnet_depth + 1))\n",
    "\n",
    "path = iddfs(graph, 'A', 'G', 4)\n",
    "\n",
    "print(path)    "
   ]
  },
  {
   "cell_type": "markdown",
   "metadata": {},
   "source": [
    "9. Contoh lainnya dari algortima IDDFS dengan menggunakan graf yang sama dengan soal no 8."
   ]
  },
  {
   "cell_type": "code",
   "execution_count": 89,
   "metadata": {},
   "outputs": [
    {
     "name": "stdout",
     "output_type": "stream",
     "text": [
      "Checking for destination  A\n",
      "Checking for destination  A\n",
      "Checking for destination  B\n",
      "Checking for destination  C\n",
      "Checking for destination  A\n",
      "Checking for destination  B\n",
      "Checking for destination  D\n",
      "Checking for destination  E\n",
      "Checking for destination  C\n",
      "Checking for destination  F\n",
      "Checking for destination  G\n",
      "A path exists\n",
      "['A', 'C', 'G']\n"
     ]
    }
   ],
   "source": [
    "graph = {\n",
    "  'A' : ['B', 'C'],\n",
    "  'B' : ['D', 'E'],\n",
    "  'C' : ['F', 'G'],\n",
    "  'D' : ['H', 'I'],\n",
    "  'E' : [],\n",
    "  'F' : ['K'],\n",
    "  'G' : [],\n",
    "  'H' : [],\n",
    "  'I' : [],\n",
    "  'K' : [],\n",
    "}\n",
    "\n",
    "path = list()\n",
    "\n",
    "def dfs(currentNode, destintion, graph, maxDepth, curList):\n",
    "  print(\"Checking for destination \", currentNode)\n",
    "  curList.append(currentNode)\n",
    "  \n",
    "  if currentNode == destintion:\n",
    "    return True\n",
    "  \n",
    "  if maxDepth <= 0:\n",
    "    path.append(curList)\n",
    "    return False\n",
    "  \n",
    "  for node in graph[currentNode]:\n",
    "    if dfs(node, destintion, graph, maxDepth - 1, curList):\n",
    "      return True\n",
    "    else:\n",
    "      curList.pop()\n",
    "  \n",
    "  return False\n",
    "\n",
    "def iterativeDDFS(currentNode, destination, graph, maxDepth):\n",
    "  for i in range(maxDepth):\n",
    "    curList = list()\n",
    "    if dfs(currentNode, destination, graph, i, curList):\n",
    "      return True\n",
    "  return False\n",
    "\n",
    "if not iterativeDDFS('A', 'G', graph, 4):\n",
    "  print(\"Path is not avaliable\")\n",
    "else:\n",
    "  print(\"A path exists\")\n",
    "  print(path.pop())"
   ]
  },
  {
   "cell_type": "markdown",
   "metadata": {},
   "source": [
    "10. Studi kasus. Diketahui jalur kota-kota di Jerman seperti gambar di bawah ini\n",
    "<img src=\"10.png\">"
   ]
  },
  {
   "cell_type": "markdown",
   "metadata": {},
   "source": [
    "a. Buatlah program Python untuk menentukan jalur dimulai dari kota Frankfurt dengan mengimplementasikan algoritma BFS."
   ]
  },
  {
   "cell_type": "code",
   "execution_count": 92,
   "metadata": {},
   "outputs": [
    {
     "name": "stdout",
     "output_type": "stream",
     "text": [
      "Hasil Algortima Breadth-First Search\n",
      "Frankfurt\n",
      "Mannheim\n",
      "Wurzburg\n",
      "Kassel\n",
      "Karisruhe\n",
      "Erfurt\n",
      "Nurnberg\n",
      "Munchen\n",
      "Augsburg\n",
      "Munchen\n",
      "Stuttgart\n",
      "Munchen\n"
     ]
    }
   ],
   "source": [
    "# graph = {\n",
    "#   'A' : ['B', 'C'],\n",
    "#   'B' : ['D', 'E'],\n",
    "#   'C' : ['F', 'G'],\n",
    "#   'D' : ['H'],\n",
    "#   'E' : ['I'],\n",
    "#   'F' : [],\n",
    "#   'G' : ['J', 'K'],\n",
    "#   'H' : [],\n",
    "#   'I' : [],\n",
    "#   'J' : [],\n",
    "#   'K' : ['L'],\n",
    "# }\n",
    "\n",
    "\n",
    "\n",
    "graph = {\n",
    "  \"Frankfurt\" : {\"Mannheim\": 85, \"Wurzburg\": 217, \"Kassel\" : 173},\n",
    "  \"Mannheim\" : {\"Karisruhe\": 80},\n",
    "  \"Wurzburg\" : {\"Erfurt\": 186, \"Nurnberg\" : 103},\n",
    "  \"Kassel\" : {\"Munchen\": 502},\n",
    "  \"Karisruhe\" : {\"Augsburg\": 250},\n",
    "  \"Erfurt\" : {},\n",
    "  \"Nurnberg\" : {\"Munchen\": 167, \"Stuttgart\" : 183},\n",
    "  \"Munchen\" : {},\n",
    "  \"Augsburg\" : {\"Munchen\": 84},\n",
    "  \"Stuttgart\" : {},\n",
    "}\n",
    "\n",
    "def bfs(visit_complete, graph, current_node):\n",
    "  \n",
    "  visit_complete.append(current_node)\n",
    "  \n",
    "  queue = []\n",
    "  \n",
    "  queue.append(current_node)\n",
    "  \n",
    "  while queue:\n",
    "    \n",
    "    s = queue.pop(0)\n",
    "    \n",
    "    print(s)\n",
    "    \n",
    "    for neighbour in graph[s]:\n",
    "      visit_complete.append(neighbour)\n",
    "      \n",
    "      queue.append(neighbour)\n",
    "      \n",
    "print(\"Hasil Algortima Breadth-First Search\")\n",
    "\n",
    "path = bfs([], graph, 'Frankfurt')"
   ]
  },
  {
   "cell_type": "markdown",
   "metadata": {},
   "source": [
    "b. Buatlah program Python untuk menentukan jalur dimulai dari kota Frankfurt dan berakhir pada kota Stuttgart dengan mengimplementasikan algoritma UCS."
   ]
  },
  {
   "cell_type": "code",
   "execution_count": 83,
   "metadata": {},
   "outputs": [
    {
     "name": "stdout",
     "output_type": "stream",
     "text": [
      "Jalur terpendek :  ['Frankfurt', 'Wurzburg', 'Nurnberg', 'Stuttgart']\n"
     ]
    }
   ],
   "source": [
    "graph = {\n",
    "  \"Frankfurt\" : {\"Mannheim\": 85, \"Wurzburg\": 217, \"Kassel\" : 173},\n",
    "  \"Mannheim\" : {\"Karisruhe\": 80},\n",
    "  \"Wurzburg\" : {\"Erfurt\": 186, \"Nurnberg\" : 103},\n",
    "  \"Kassel\" : {\"Munchen\": 502},\n",
    "  \"Karisruhe\" : {\"Augsburg\": 250},\n",
    "  \"Erfurt\" : {},\n",
    "  \"Nurnberg\" : {\"Munchen\": 167, \"Stuttgart\" : 183},\n",
    "  \"Munchen\" : {},\n",
    "  \"Augsburg\" : {\"Munchen\": 84},\n",
    "  \"Stuttgart\" : {},\n",
    "}\n",
    "\n",
    "\n",
    "def ucs(graph, start, end):\n",
    "  \n",
    "  queue = []\n",
    "  \n",
    "  queue.append((start, 0))\n",
    "  \n",
    "  path_cost = {start: 0}\n",
    "  path = {}\n",
    "  \n",
    "  while queue:\n",
    "    \n",
    "    node, cost = queue.pop(0)\n",
    "    \n",
    "    if node == end:\n",
    "      path_nodes = []\n",
    "      while node != start:\n",
    "        path_nodes.append(node)\n",
    "        node = path[node]\n",
    "      path_nodes.append(start)\n",
    "      return list(reversed(path_nodes))\n",
    "    \n",
    "    for neighbor, neighbor_cost in graph.get(node, {}).items():\n",
    "      new_cost = cost + neighbor_cost\n",
    "      if neighbor not in path_cost or new_cost < path_cost[neighbor]:\n",
    "        path_cost[neighbor] = new_cost\n",
    "        queue.append((neighbor, new_cost))\n",
    "        path[neighbor] = node\n",
    "        \n",
    "  return None\n",
    "\n",
    "path = ucs(graph, \"Frankfurt\", \"Stuttgart\")\n",
    "\n",
    "if path:\n",
    "  print(\"Jalur terpendek : \", path)\n",
    "else:\n",
    "  print(\"Tidak ada jalur yang ditemukan.\")\n"
   ]
  }
 ],
 "metadata": {
  "kernelspec": {
   "display_name": "Python 3",
   "language": "python",
   "name": "python3"
  },
  "language_info": {
   "codemirror_mode": {
    "name": "ipython",
    "version": 3
   },
   "file_extension": ".py",
   "mimetype": "text/x-python",
   "name": "python",
   "nbconvert_exporter": "python",
   "pygments_lexer": "ipython3",
   "version": "3.12.6"
  }
 },
 "nbformat": 4,
 "nbformat_minor": 2
}
