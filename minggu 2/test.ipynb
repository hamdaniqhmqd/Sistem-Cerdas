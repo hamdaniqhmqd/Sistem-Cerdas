{
 "cells": [
  {
   "cell_type": "markdown",
   "metadata": {},
   "source": [
    "1. Menampilkan suatu string ke layar"
   ]
  },
  {
   "cell_type": "code",
   "execution_count": 1,
   "metadata": {},
   "outputs": [
    {
     "name": "stdout",
     "output_type": "stream",
     "text": [
      "Halo Dunia\n"
     ]
    }
   ],
   "source": [
    "# 01\n",
    "print(\"Halo Dunia\")"
   ]
  },
  {
   "cell_type": "markdown",
   "metadata": {},
   "source": [
    "2. Tampilkan angka 123456 ke layar"
   ]
  },
  {
   "cell_type": "code",
   "execution_count": 2,
   "metadata": {},
   "outputs": [
    {
     "name": "stdout",
     "output_type": "stream",
     "text": [
      "123456\n"
     ]
    }
   ],
   "source": [
    "# 02\n",
    "print(123456)"
   ]
  },
  {
   "cell_type": "markdown",
   "metadata": {},
   "source": [
    "3. Variabel, menampilkan variabel yang tersimpan ke layar"
   ]
  },
  {
   "cell_type": "code",
   "execution_count": 3,
   "metadata": {},
   "outputs": [
    {
     "name": "stdout",
     "output_type": "stream",
     "text": [
      "Ini variabel 1 9999\n"
     ]
    }
   ],
   "source": [
    "var1 = \"Ini variabel 1\"\n",
    "var2 = 9999\n",
    "\n",
    "print(var1, var2)"
   ]
  },
  {
   "cell_type": "markdown",
   "metadata": {},
   "source": [
    "4. Tampilkan: \"Isi dari [var1] dan [var2] adalah ...\", dimana var1 dan var2 adalah isi dari variabel yang telah dideklarasikan diatas."
   ]
  },
  {
   "cell_type": "code",
   "execution_count": 8,
   "metadata": {},
   "outputs": [
    {
     "name": "stdout",
     "output_type": "stream",
     "text": [
      "Isi dari [var1] dan [var2] adalah Ini variabel 1 9999\n"
     ]
    }
   ],
   "source": [
    "var1 = \"Ini variabel 1\"\n",
    "var2 = 9999\n",
    "\n",
    "print(\"Isi dari [var1] dan [var2] adalah \" + var1, var2)"
   ]
  },
  {
   "cell_type": "markdown",
   "metadata": {},
   "source": [
    "5. Operasi aritmatika dasar. Lengkapi titik-titik tersebut dan tampilkan hasil operasinya"
   ]
  },
  {
   "cell_type": "code",
   "execution_count": 12,
   "metadata": {},
   "outputs": [
    {
     "name": "stdout",
     "output_type": "stream",
     "text": [
      "hasil penambahan: 12\n",
      "hasil pengurangan: 4\n",
      "hasil perkalian: 32\n",
      "hasil pembagian: 2.0\n",
      "hasil pembagian bulat: 2\n",
      "hasil pembagian float: 2.0\n",
      "hasil pangkat: 4096\n",
      "hasil sisa hasil bagi: 0\n"
     ]
    }
   ],
   "source": [
    "x = 8\n",
    "y = 4\n",
    "penambahan = x + y\n",
    "pengurangan = x - y\n",
    "perkalian = x * y\n",
    "pembagian = x / y\n",
    "pembagian_bulat = x // y\n",
    "pembagian_float = x / y\n",
    "pangkat = x ** y\n",
    "sisa_hasil_bagi = x % y\n",
    "\n",
    "print(\"hasil penambahan: \" + str(penambahan))\n",
    "print(\"hasil pengurangan: \" + str(pengurangan))\n",
    "print(\"hasil perkalian: \" + str(perkalian))\n",
    "print(\"hasil pembagian: \" + str(pembagian))\n",
    "print(\"hasil pembagian bulat: \" + str(pembagian_bulat))\n",
    "print(\"hasil pembagian float: \" + str(pembagian_float))\n",
    "print(\"hasil pangkat: \" + str(pangkat))\n",
    "print(\"hasil sisa hasil bagi: \" + str(sisa_hasil_bagi))"
   ]
  },
  {
   "cell_type": "markdown",
   "metadata": {},
   "source": [
    "6. Operasi aritmatika menggunakan fungsi math. Lengkapi dan tampilkan hasilnya."
   ]
  },
  {
   "cell_type": "code",
   "execution_count": 18,
   "metadata": {},
   "outputs": [
    {
     "name": "stdout",
     "output_type": "stream",
     "text": [
      "Akar kuadrat dari 64: 8.0\n",
      "Pembulatan ke bawah dari 5.3: 5\n",
      "Pembulatan ke atas dari 5.3: 6\n",
      "Pangkat tiga dari 5: 125.0\n"
     ]
    }
   ],
   "source": [
    "# import library math\n",
    "import math\n",
    "\n",
    "# Hitung akar kuadrat dari 16\n",
    "akar_kuadrat = math.sqrt(64)\n",
    "\n",
    "# Pembualatan ke bawah dari suatu bilangan\n",
    "pembulatan_bawah = math.floor(5.3)\n",
    "\n",
    "# Pembulatan ke atas dari suatu bilangan\n",
    "pembulatan_atas = math.ceil(5.3)\n",
    "\n",
    "# Hitung pangkat tiga dari 5\n",
    "pangkat_tiga = math.pow(5,3)\n",
    "\n",
    "print(\"Akar kuadrat dari 64:\", akar_kuadrat)\n",
    "print(\"Pembulatan ke bawah dari 5.3:\", pembulatan_bawah)\n",
    "print(\"Pembulatan ke atas dari 5.3:\", pembulatan_atas)\n",
    "print(\"Pangkat tiga dari 5:\", pangkat_tiga)"
   ]
  },
  {
   "cell_type": "markdown",
   "metadata": {},
   "source": [
    "7. Sebuah kerucut memiliki t = 12cm, r = 5cm dan s = 20cm. Buatlah program untuk\n",
    "menghitung luas permukaan dan volumenya."
   ]
  },
  {
   "cell_type": "code",
   "execution_count": 20,
   "metadata": {},
   "outputs": [
    {
     "name": "stdout",
     "output_type": "stream",
     "text": [
      "Luas permukaan kerucut adalah 392.5\n",
      "Volume kerucut adalah 314.0\n"
     ]
    }
   ],
   "source": [
    "p = 3.14\n",
    "t = 12\n",
    "r = 5\n",
    "s = 20\n",
    "\n",
    "luas_permukaan = p * r * (r + s)\n",
    "volume = 1/3 * p * r**2 * t\n",
    "\n",
    "print(\"Luas permukaan kerucut adalah\", luas_permukaan)\n",
    "print(\"Volume kerucut adalah\", volume)"
   ]
  },
  {
   "cell_type": "markdown",
   "metadata": {},
   "source": [
    "8. Input dan Output. "
   ]
  },
  {
   "cell_type": "code",
   "execution_count": 26,
   "metadata": {},
   "outputs": [
    {
     "name": "stdout",
     "output_type": "stream",
     "text": [
      "Halo, ahmad!\n"
     ]
    }
   ],
   "source": [
    "nama = input(\"Masukkan nama Anda: \")\n",
    "print(\"Halo, \"+ nama + \"!\")"
   ]
  },
  {
   "cell_type": "markdown",
   "metadata": {},
   "source": [
    "9. Buat sebuah input output untuk menghitung penjumlahan dari input 2 bilangan\n",
    "float."
   ]
  },
  {
   "cell_type": "code",
   "execution_count": 35,
   "metadata": {},
   "outputs": [
    {
     "name": "stdout",
     "output_type": "stream",
     "text": [
      "Hasil penjumlahan dari 6.0 dan 3.0 adalah 9.0\n"
     ]
    }
   ],
   "source": [
    "x = float(input(\"Masukkan angka pertama: \"))\n",
    "y = float(input(\"Masukkan angka kedua: \"))\n",
    "\n",
    "z = x + y\n",
    "print(\"Hasil penjumlahan dari \" + str(x) + \" dan \" + str(y) + \" adalah \" + str(z))"
   ]
  },
  {
   "cell_type": "markdown",
   "metadata": {},
   "source": [
    "10. Menampilkan value dari variable menggunakan metode format {}"
   ]
  },
  {
   "cell_type": "code",
   "execution_count": 31,
   "metadata": {},
   "outputs": [
    {
     "name": "stdout",
     "output_type": "stream",
     "text": [
      "Halo, nama saya Bambang dan saya berusia 19 tahun.\n"
     ]
    }
   ],
   "source": [
    "nama = \"Bambang\"\n",
    "umur = 19\n",
    "\n",
    "print(\"Halo, nama saya {} dan saya berusia {} tahun.\".format(nama, umur))"
   ]
  },
  {
   "cell_type": "markdown",
   "metadata": {},
   "source": [
    "11. Buat program input-output menggunakan metode f-string."
   ]
  },
  {
   "cell_type": "code",
   "execution_count": 36,
   "metadata": {},
   "outputs": [
    {
     "name": "stdout",
     "output_type": "stream",
     "text": [
      "Hasil penjumlahan dari 3 dan 7 adalah 10\n"
     ]
    }
   ],
   "source": [
    "x = int(input(\"Masukkan angka pertama: \"))\n",
    "y = int(input(\"Masukkan angka kedua: \"))\n",
    "\n",
    "z = x + y\n",
    "print(f\"Hasil penjumlahan dari {x} dan {y} adalah {z}\")"
   ]
  },
  {
   "cell_type": "markdown",
   "metadata": {},
   "source": [
    "12. Pernyataan berkondisi (if-else). Lengkapi titik-titik tersebut dan tampilkan hasilnya."
   ]
  },
  {
   "cell_type": "code",
   "execution_count": 37,
   "metadata": {},
   "outputs": [
    {
     "name": "stdout",
     "output_type": "stream",
     "text": [
      "Hasil 6.0 * 3.0 adalah 18.0\n"
     ]
    }
   ],
   "source": [
    "x = float(input(\"Masukkan angka pertama: \"))\n",
    "y = float(input(\"Masukkan angka kedua: \"))\n",
    "operasi = input(\"Masukkan operasi: \")\n",
    "\n",
    "if operasi == \"+\":\n",
    "  hasil = x + y\n",
    "elif operasi == \"-\":\n",
    "  hasil = x -y\n",
    "elif operasi == \"*\":\n",
    "  hasil = x * y\n",
    "elif operasi == \"/\":\n",
    "  if y == 0:\n",
    "    print(\"Tidak bisa dibagi 0\")\n",
    "  else:\n",
    "    hasil = x / y\n",
    "else:\n",
    "  print(\"Operasi tidak valid\")\n",
    "  \n",
    "if operasi in \"+-*/\":\n",
    "  print(f\"Hasil {x} {operasi} {y} adalah {hasil}\")"
   ]
  },
  {
   "cell_type": "markdown",
   "metadata": {},
   "source": [
    "13. Program menentukan bilangan prima berdasarkan inputan."
   ]
  },
  {
   "cell_type": "code",
   "execution_count": 26,
   "metadata": {},
   "outputs": [
    {
     "name": "stdout",
     "output_type": "stream",
     "text": [
      "Bilangan 5 adalah bilangan prima.\n"
     ]
    }
   ],
   "source": [
    "bilangan = int(input(\"Masukkan sebuah bilangan positif: \"))\n",
    "\n",
    "if bilangan <= 1:\n",
    "  print(\"Bukan bilangan prima.\")\n",
    "else:\n",
    "  prima = True\n",
    "  for i in range(2, int(bilangan**0.5) + 1):\n",
    "    if bilangan % i == 0:\n",
    "      prima = False\n",
    "      break\n",
    "  \n",
    "  if prima:\n",
    "    print(f\"Bilangan {bilangan} adalah bilangan prima.\")\n",
    "  else:\n",
    "    print(f\"Bilangan {bilangan} adalah bukan bilangan prima\")"
   ]
  },
  {
   "cell_type": "markdown",
   "metadata": {},
   "source": [
    "14. While Looping"
   ]
  },
  {
   "cell_type": "code",
   "execution_count": 35,
   "metadata": {},
   "outputs": [
    {
     "name": "stdout",
     "output_type": "stream",
     "text": [
      "* \n",
      "* * \n",
      "* * * \n",
      "* * * * \n",
      "* * * * * \n"
     ]
    }
   ],
   "source": [
    "baris = 1\n",
    "\n",
    "while baris <= 5:\n",
    "  kolom = 1\n",
    "  while kolom <= baris:\n",
    "    print(\"* \", end=\"\")\n",
    "    kolom += 1\n",
    "  print()\n",
    "  baris += 1"
   ]
  },
  {
   "cell_type": "markdown",
   "metadata": {},
   "source": [
    "15. Ubahlah simbol * pada kode no 14 di atas menjadi sebuah urutan bilangan."
   ]
  },
  {
   "cell_type": "code",
   "execution_count": 41,
   "metadata": {},
   "outputs": [
    {
     "name": "stdout",
     "output_type": "stream",
     "text": [
      "1 \n",
      "2 2 \n",
      "3 3 3 \n",
      "4 4 4 4 \n",
      "5 5 5 5 5 \n"
     ]
    }
   ],
   "source": [
    "baris = 1\n",
    "\n",
    "while baris <= 5:\n",
    "  kolom = 1\n",
    "  while kolom <= baris:\n",
    "    print(baris, end=\" \")\n",
    "    kolom += 1\n",
    "  print()\n",
    "  baris += 1"
   ]
  },
  {
   "cell_type": "markdown",
   "metadata": {},
   "source": [
    "16. Program menentukan bilangan-bilangan ganjil sesuai urutan nilai yang diinput."
   ]
  },
  {
   "cell_type": "code",
   "execution_count": 42,
   "metadata": {},
   "outputs": [
    {
     "name": "stdout",
     "output_type": "stream",
     "text": [
      "1\n",
      "3\n",
      "5\n"
     ]
    }
   ],
   "source": [
    "N = int(input(\"Masukkan nilai N: \"))\n",
    "i = 1\n",
    "\n",
    "while i <= N:\n",
    "  if i % 2 != 0:\n",
    "    print(i)\n",
    "  i += 1"
   ]
  },
  {
   "cell_type": "markdown",
   "metadata": {},
   "source": [
    "17. Ubah program no 16 di atas untuk menentukan dan menjumlahkan semua bilangan\n",
    "genap sesuai nilai yang diinput."
   ]
  },
  {
   "cell_type": "code",
   "execution_count": 43,
   "metadata": {},
   "outputs": [
    {
     "name": "stdout",
     "output_type": "stream",
     "text": [
      "2\n",
      "4\n"
     ]
    }
   ],
   "source": [
    "N = int(input(\"Masukkan nilai N: \"))\n",
    "i = 1\n",
    "\n",
    "while i <= N:\n",
    "  if i % 2 == 0:\n",
    "    print(i)\n",
    "  i += 1"
   ]
  },
  {
   "cell_type": "markdown",
   "metadata": {},
   "source": [
    "18. For Looping. Menampilkan setiap karakter dalam sebuah string."
   ]
  },
  {
   "cell_type": "code",
   "execution_count": 45,
   "metadata": {},
   "outputs": [
    {
     "name": "stdout",
     "output_type": "stream",
     "text": [
      "a\n",
      "h\n",
      "m\n",
      "a\n",
      "d\n"
     ]
    }
   ],
   "source": [
    "kata = input(\"Masukkan sebuah kata: \")\n",
    "\n",
    "for karakter in kata:\n",
    "  print(karakter)"
   ]
  },
  {
   "cell_type": "markdown",
   "metadata": {},
   "source": [
    "19. Program menghitung penjumlahan dari kumpulan bilangan ganjil. Lengkapi titiktitik tersebut dan tampilkan."
   ]
  },
  {
   "cell_type": "code",
   "execution_count": 47,
   "metadata": {},
   "outputs": [
    {
     "name": "stdout",
     "output_type": "stream",
     "text": [
      "Jumlah bilangan ganjil dari 1 hingga 5 adalah: 3\n"
     ]
    }
   ],
   "source": [
    "N = int(input(\"Masukkan nilai N: \"))\n",
    "jumlah = 0\n",
    "\n",
    "for i in range(1, N+1, 2):\n",
    "  if i % 2 != 0:\n",
    "    jumlah += 1\n",
    "print(\"Jumlah bilangan ganjil dari 1 hingga\", N, \"adalah:\", jumlah)"
   ]
  },
  {
   "cell_type": "markdown",
   "metadata": {},
   "source": [
    "20. Function. Program dengan memanfaatkan fungsi aritmatika penjumlahan."
   ]
  },
  {
   "cell_type": "code",
   "execution_count": 48,
   "metadata": {},
   "outputs": [
    {
     "name": "stdout",
     "output_type": "stream",
     "text": [
      "Hasil penjumlahan:  17\n"
     ]
    }
   ],
   "source": [
    "def tambah(angka1, angka2):\n",
    "  hasil = angka1 + angka2\n",
    "  return hasil\n",
    "\n",
    "angka1 = 14\n",
    "angka2 = 3\n",
    "hasil_penjumlahan = tambah(angka1, angka2)\n",
    "print(\"Hasil penjumlahan: \", hasil_penjumlahan)"
   ]
  },
  {
   "cell_type": "markdown",
   "metadata": {},
   "source": [
    "21. Tambahkan dan jalankan kembali fungsi menghitung sisa hasil pembagian untuk\n",
    "angka1 dan angka2 pada program no 20 di atas."
   ]
  },
  {
   "cell_type": "code",
   "execution_count": 49,
   "metadata": {},
   "outputs": [
    {
     "name": "stdout",
     "output_type": "stream",
     "text": [
      "Hasil sisa hasil bagi:  2\n"
     ]
    }
   ],
   "source": [
    "def sisaHasilbagi(angka1, angka2):\n",
    "  hasil = angka1 % angka2\n",
    "  return hasil\n",
    "\n",
    "angka1 = 14\n",
    "angka2 = 3\n",
    "hasil_sisa_hasil_bagi = sisaHasilbagi(angka1, angka2)\n",
    "print(\"Hasil sisa hasil bagi: \", hasil_sisa_hasil_bagi)"
   ]
  },
  {
   "cell_type": "markdown",
   "metadata": {},
   "source": [
    "22. Buatlah sebuah program dengan fungsi untuk menghitung volume tabung\n",
    "berdasarkan inputan jari-jari dan tinggi."
   ]
  },
  {
   "cell_type": "code",
   "execution_count": 54,
   "metadata": {},
   "outputs": [
    {
     "name": "stdout",
     "output_type": "stream",
     "text": [
      "Volume tabung:  502.40000000000003\n"
     ]
    }
   ],
   "source": [
    "r = int(input(\"Masukkan jari-jari tabung: \"))\n",
    "t = int(input(\"Masukkan tinggi tabung: \"))\n",
    "p = 3.14\n",
    "\n",
    "volume = p * r**2 * t\n",
    "print(\"Volume tabung: \", volume)"
   ]
  },
  {
   "cell_type": "markdown",
   "metadata": {},
   "source": [
    "23. Array. Program menentukan salah satu elemen dari suatu list."
   ]
  },
  {
   "cell_type": "code",
   "execution_count": 55,
   "metadata": {},
   "outputs": [
    {
     "name": "stdout",
     "output_type": "stream",
     "text": [
      "Nama orang pertama:  Andi\n",
      "Nama orang terakhir:  Eva\n"
     ]
    }
   ],
   "source": [
    "nama_orang = [\n",
    "  \"Andi\",\n",
    "  \"Budi\",\n",
    "  \"Cita\",\n",
    "  \"David\",\n",
    "  \"Eva\",\n",
    "  ]\n",
    "\n",
    "nama_pertama = nama_orang[0]\n",
    "nama_terakhir = nama_orang[-1]\n",
    "\n",
    "print(\"Nama orang pertama: \", nama_pertama)\n",
    "print(\"Nama orang terakhir: \", nama_terakhir)"
   ]
  },
  {
   "cell_type": "markdown",
   "metadata": {},
   "source": [
    "24. Tambahkan kode untuk menampilkan nama ke-2 & ke-3 dari list no 23 di atas"
   ]
  },
  {
   "cell_type": "code",
   "execution_count": 56,
   "metadata": {},
   "outputs": [
    {
     "name": "stdout",
     "output_type": "stream",
     "text": [
      "Nama orang pertama:  Andi\n",
      "Nama orang kedua:  Budi\n",
      "Nama orang ketiga:  Cita\n",
      "Nama orang terakhir:  Eva\n"
     ]
    }
   ],
   "source": [
    "nama_orang = [\n",
    "  \"Andi\",\n",
    "  \"Budi\",\n",
    "  \"Cita\",\n",
    "  \"David\",\n",
    "  \"Eva\",\n",
    "  ]\n",
    "\n",
    "nama_pertama = nama_orang[0]\n",
    "nama_kedua = nama_orang[1]\n",
    "nama_ketiga = nama_orang[2]\n",
    "nama_terakhir = nama_orang[-1]\n",
    "\n",
    "print(\"Nama orang pertama: \", nama_pertama)\n",
    "print(\"Nama orang kedua: \", nama_kedua)\n",
    "print(\"Nama orang ketiga: \", nama_ketiga)\n",
    "print(\"Nama orang terakhir: \", nama_terakhir)"
   ]
  },
  {
   "cell_type": "markdown",
   "metadata": {},
   "source": [
    "25. Tambahkan nama \"Farid\" ke list di atas."
   ]
  },
  {
   "cell_type": "code",
   "execution_count": 57,
   "metadata": {},
   "outputs": [
    {
     "name": "stdout",
     "output_type": "stream",
     "text": [
      "['Andi', 'Budi', 'Cita', 'David', 'Eva', 'Farid']\n"
     ]
    }
   ],
   "source": [
    "nama_orang = [\n",
    "  \"Andi\",\n",
    "  \"Budi\",\n",
    "  \"Cita\",\n",
    "  \"David\",\n",
    "  \"Eva\",\n",
    "  ]\n",
    "\n",
    "nama_orang.append(\"Farid\")\n",
    "print(nama_orang)"
   ]
  },
  {
   "cell_type": "markdown",
   "metadata": {},
   "source": [
    "26. Hapus nama \"Andi\" pada list di atas"
   ]
  },
  {
   "cell_type": "code",
   "execution_count": 58,
   "metadata": {},
   "outputs": [
    {
     "name": "stdout",
     "output_type": "stream",
     "text": [
      "['Budi', 'Cita', 'David', 'Eva']\n"
     ]
    }
   ],
   "source": [
    "nama_orang = [\n",
    "  \"Andi\",\n",
    "  \"Budi\",\n",
    "  \"Cita\",\n",
    "  \"David\",\n",
    "  \"Eva\",\n",
    "  ]\n",
    "\n",
    "nama_orang.remove(\"Andi\")\n",
    "print(nama_orang)"
   ]
  },
  {
   "cell_type": "markdown",
   "metadata": {},
   "source": [
    "27. Membaca Matrix (list multidimensi)."
   ]
  },
  {
   "cell_type": "code",
   "execution_count": 60,
   "metadata": {},
   "outputs": [
    {
     "name": "stdout",
     "output_type": "stream",
     "text": [
      "Elemen dibaris 2, kolom 3: 6\n",
      "Jumlah baris,  4\n",
      "Jumlah kolom,  3\n"
     ]
    }
   ],
   "source": [
    "matrix = [\n",
    "  [1, 2, 3],\n",
    "  [4, 5, 6],\n",
    "  [7, 8, 9],\n",
    "  [2, 5, 6],\n",
    "]\n",
    "\n",
    "elemen = matrix[1][2]\n",
    "\n",
    "jumlah_baris = len(matrix)\n",
    "jumlah_kolom = len(matrix[0])\n",
    "\n",
    "print(\"Elemen dibaris 2, kolom 3:\", elemen)\n",
    "print(\"Jumlah baris, \", jumlah_baris)\n",
    "print(\"Jumlah kolom, \", jumlah_kolom)"
   ]
  },
  {
   "cell_type": "markdown",
   "metadata": {},
   "source": [
    "28. Penjumlahan dua matrix menggunakan perulangan untuk mengiterasi melalui\n",
    "elemen-elemen matriks dan menjumlahkan elemen yang sesuai dari kedua matriks."
   ]
  },
  {
   "cell_type": "code",
   "execution_count": 61,
   "metadata": {},
   "outputs": [
    {
     "name": "stdout",
     "output_type": "stream",
     "text": [
      "[16, 13, 9]\n",
      "[10, 6, 12]\n",
      "[6, 11, 4]\n"
     ]
    }
   ],
   "source": [
    "matrix1 = [\n",
    "  [7, 5, 2],\n",
    "  [4, 1, 8],\n",
    "  [3, 9, 3],\n",
    "]\n",
    "\n",
    "matrix2 = [\n",
    "  [9, 8, 7],\n",
    "  [6, 5, 4],\n",
    "  [3, 2, 1],\n",
    "]\n",
    "\n",
    "hasil_matrix = []\n",
    "\n",
    "for i in range(len(matrix1)):\n",
    "  baris = []\n",
    "  for j in range(len(matrix1[0])):\n",
    "    hasil = matrix1[i][j] + matrix2[i][j]\n",
    "    baris.append(hasil)\n",
    "  hasil_matrix.append(baris)\n",
    "  \n",
    "for baris in hasil_matrix:\n",
    "  print(baris)"
   ]
  },
  {
   "cell_type": "markdown",
   "metadata": {},
   "source": [
    "29. Try - Except. Program membaca file txt"
   ]
  },
  {
   "cell_type": "code",
   "execution_count": 67,
   "metadata": {},
   "outputs": [
    {
     "name": "stdout",
     "output_type": "stream",
     "text": [
      "halo aku ahmad\n",
      "Tidak ada kesalahan\n",
      "program 'try except' telah selesai\n"
     ]
    }
   ],
   "source": [
    "try:\n",
    "  with open('demoFile.txt', 'r') as file:\n",
    "    data = file.read()\n",
    "    print(data)\n",
    "except Exception as e:\n",
    "  print(\"Terjadi kesalahan: \", e)\n",
    "else:\n",
    "  print(\"Tidak ada kesalahan\")\n",
    "finally:\n",
    "  print(\"program 'try except' telah selesai\")"
   ]
  },
  {
   "cell_type": "markdown",
   "metadata": {},
   "source": [
    "30. Tambahkan exception: file tidak ditemukan (FileNotFoundError)"
   ]
  },
  {
   "cell_type": "code",
   "execution_count": 69,
   "metadata": {},
   "outputs": [
    {
     "name": "stdout",
     "output_type": "stream",
     "text": [
      " file tidak ditemukan.\n",
      "program 'try except' telah selesai\n"
     ]
    }
   ],
   "source": [
    "try:\n",
    "  with open('demoFile1.txt', 'r') as file:\n",
    "    data = file.read()\n",
    "    print(data)\n",
    "except FileNotFoundError:\n",
    "  print(\" file tidak ditemukan.\")\n",
    "except Exception as e:\n",
    "  print(\"Terjadi kesalahan: \", e)\n",
    "else:\n",
    "  print(\"Tidak ada kesalahan\")\n",
    "finally:\n",
    "  print(\"program 'try except' telah selesai\")"
   ]
  },
  {
   "cell_type": "markdown",
   "metadata": {},
   "source": [
    "31. Tambahkan exception: tidak memiliki izin membaca file (PermissionError)."
   ]
  },
  {
   "cell_type": "code",
   "execution_count": 72,
   "metadata": {},
   "outputs": [
    {
     "name": "stdout",
     "output_type": "stream",
     "text": [
      "\n",
      "Tidak ada kesalahan\n",
      "program 'try except' telah selesai\n"
     ]
    }
   ],
   "source": [
    "try:\n",
    "  with open('demoFile.txt', 'r') as file:\n",
    "    data = file.read()\n",
    "    print(data)\n",
    "except PermissionError:\n",
    "  print(\"Tidak memiliki izin membaca file.\")\n",
    "except FileNotFoundError:\n",
    "  print(\"File tidak ditemukan.\")\n",
    "except Exception as e:\n",
    "  print(\"Terjadi kesalahan: \", e)\n",
    "else:\n",
    "  print(\"Tidak ada kesalahan\")\n",
    "finally:\n",
    "  print(\"program 'try except' telah selesai\")"
   ]
  },
  {
   "cell_type": "markdown",
   "metadata": {},
   "source": [
    "32. Menampilkan chart menggunakan library Matplotlib. Dokumentasi dan jenis-jenis\n",
    "chart Matplotlib di https://matplotlib.org/stable/plot_types/index.html."
   ]
  },
  {
   "cell_type": "code",
   "execution_count": 1,
   "metadata": {},
   "outputs": [
    {
     "data": {
      "image/png": "[encoded data removed]",
      "text/plain": [
       "<Figure size 640x480 with 1 Axes>"
      ]
     },
     "metadata": {},
     "output_type": "display_data"
    }
   ],
   "source": [
    "import matplotlib.pyplot as plt\n",
    "\n",
    "tahun = [2010, 2011, 2012, 2013, 2014, 2015]\n",
    "populasi = [112, 105, 118, 141, 121, 137]\n",
    "\n",
    "plt.plot(tahun, populasi, marker='o', linestyle='-')\n",
    "\n",
    "plt.xlabel('Tahun')\n",
    "plt.ylabel('Populasi (juta)')\n",
    "\n",
    "plt.title('Grafik Populasi kota X (2010-2015)')\n",
    "\n",
    "plt.grid(True)\n",
    "\n",
    "plt.show()"
   ]
  },
  {
   "cell_type": "markdown",
   "metadata": {},
   "source": [
    "33. Buatlah sebuah Bar chart untuk merepresentasikan sebuah data penjualan\n",
    "berdasarkan bulan sesuai table pada file Excel yang telah Anda buat sebelumnya.\n",
    "Gunakan library Pandas untuk membaca file Excel. Tabel data penjualan dan hasil\n",
    "Bar chart."
   ]
  },
  {
   "cell_type": "code",
   "execution_count": 1,
   "metadata": {},
   "outputs": [
    {
     "data": {
      "image/png": "[encoded data removed]",
      "text/plain": [
       "<Figure size 1000x600 with 1 Axes>"
      ]
     },
     "metadata": {},
     "output_type": "display_data"
    }
   ],
   "source": [
    "import pandas as pd\n",
    "import matplotlib.pyplot as plt\n",
    "\n",
    "df = pd.read_excel('data populasi.xlsx', engine='openpyxl')\n",
    "\n",
    "plt.figure(figsize=(10, 6))\n",
    "plt.bar(df['Bulan'], df['Populasi'], color='violet')\n",
    "\n",
    "plt.xlabel('Bulan')\n",
    "plt.ylabel('Populasi (juta)')\n",
    "plt.title('Grafik penjualan produk per bulan')\n",
    "\n",
    "plt.grid(axis='y', linestyle='none', alpha=0.7)\n",
    "\n",
    "plt.tight_layout()\n",
    "plt.show()"
   ]
  }
 ],
 "metadata": {
  "kernelspec": {
   "display_name": "Python 3",
   "language": "python",
   "name": "python3"
  },
  "language_info": {
   "codemirror_mode": {
    "name": "ipython",
    "version": 3
   },
   "file_extension": ".py",
   "mimetype": "text/x-python",
   "name": "python",
   "nbconvert_exporter": "python",
   "pygments_lexer": "ipython3",
   "version": "3.12.6"
  }
 },
 "nbformat": 4,
 "nbformat_minor": 2
}
